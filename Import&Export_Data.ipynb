{
 "cells": [
  {
   "cell_type": "markdown",
   "metadata": {},
   "source": [
    "### Interacting with data in Jupyter Notebook"
   ]
  },
  {
   "cell_type": "code",
   "execution_count": 29,
   "metadata": {},
   "outputs": [],
   "source": [
    "import requests\n",
    "import pandas as pd"
   ]
  },
  {
   "cell_type": "code",
   "execution_count": 30,
   "metadata": {},
   "outputs": [],
   "source": [
    "def get_historic_price(symbol, after='2018-09-01'):\n",
    "    \n",
    "    url = 'https://api.kraken.com/0/public/OHLC'\n",
    "    pair = f\"{symbol.upper()}USD\" # XBTUSD when symbol='xbt' for example\n",
    "    \n",
    "    resp = requests.get(url, params={\n",
    "        \"pair\": pair,\n",
    "        'interval': 60,\n",
    "        'since': str(int(pd.Timestamp(after).timestamp()))\n",
    "    })\n",
    "    resp.raise_for_status()\n",
    "    \n",
    "    data = resp.json()\n",
    "    \n",
    "    results_key = [k for k in data['result'].keys() if k != 'last'][0]\n",
    "    results = [\n",
    "        (close_time, float(open), float(high), float(low), float(close), float(volume))\n",
    "        for (close_time, open, high, low, close, vwap, volume, count)\n",
    "        in data['result'][results_key]\n",
    "    ]\n",
    "    df = pd.DataFrame(results, columns=[\n",
    "        'CloseTime', 'OpenPrice', 'HighPrice', 'LowPrice', 'ClosePrice', 'Volume'\n",
    "    ])\n",
    "    df['CloseTime'] = pd.to_datetime(df['CloseTime'], unit='s')\n",
    "    df.set_index('CloseTime', inplace=True)\n",
    "    return df"
   ]
  },
  {
   "cell_type": "markdown",
   "metadata": {},
   "source": [
    "I will now pull data from Bitcon and Ether, two of the most popular cryptocurrencies, for last 7 days."
   ]
  },
  {
   "cell_type": "code",
   "execution_count": 31,
   "metadata": {},
   "outputs": [
    {
     "data": {
      "text/plain": [
       "Timestamp('2024-04-05 21:49:36.582749')"
      ]
     },
     "execution_count": 31,
     "metadata": {},
     "output_type": "execute_result"
    }
   ],
   "source": [
    "last_week = (pd.Timestamp.now() - pd.offsets.Day(7))\n",
    "last_week"
   ]
  },
  {
   "cell_type": "code",
   "execution_count": 32,
   "metadata": {},
   "outputs": [],
   "source": [
    "btc = get_historic_price('btc', after=last_week)"
   ]
  },
  {
   "cell_type": "code",
   "execution_count": 33,
   "metadata": {},
   "outputs": [],
   "source": [
    "eth = get_historic_price('eth', after=last_week)"
   ]
  },
  {
   "cell_type": "code",
   "execution_count": 34,
   "metadata": {},
   "outputs": [
    {
     "data": {
      "text/html": [
       "<div>\n",
       "<style scoped>\n",
       "    .dataframe tbody tr th:only-of-type {\n",
       "        vertical-align: middle;\n",
       "    }\n",
       "\n",
       "    .dataframe tbody tr th {\n",
       "        vertical-align: top;\n",
       "    }\n",
       "\n",
       "    .dataframe thead th {\n",
       "        text-align: right;\n",
       "    }\n",
       "</style>\n",
       "<table border=\"1\" class=\"dataframe\">\n",
       "  <thead>\n",
       "    <tr style=\"text-align: right;\">\n",
       "      <th></th>\n",
       "      <th>OpenPrice</th>\n",
       "      <th>HighPrice</th>\n",
       "      <th>LowPrice</th>\n",
       "      <th>ClosePrice</th>\n",
       "      <th>Volume</th>\n",
       "    </tr>\n",
       "  </thead>\n",
       "  <tbody>\n",
       "    <tr>\n",
       "      <th>count</th>\n",
       "      <td>165.000000</td>\n",
       "      <td>165.000000</td>\n",
       "      <td>165.000000</td>\n",
       "      <td>165.00000</td>\n",
       "      <td>165.000000</td>\n",
       "    </tr>\n",
       "    <tr>\n",
       "      <th>mean</th>\n",
       "      <td>69759.777576</td>\n",
       "      <td>69977.047879</td>\n",
       "      <td>69509.913939</td>\n",
       "      <td>69751.99697</td>\n",
       "      <td>120.033260</td>\n",
       "    </tr>\n",
       "    <tr>\n",
       "      <th>std</th>\n",
       "      <td>1195.961502</td>\n",
       "      <td>1209.119905</td>\n",
       "      <td>1223.958970</td>\n",
       "      <td>1213.25696</td>\n",
       "      <td>139.974170</td>\n",
       "    </tr>\n",
       "    <tr>\n",
       "      <th>min</th>\n",
       "      <td>67584.400000</td>\n",
       "      <td>67770.100000</td>\n",
       "      <td>65118.000000</td>\n",
       "      <td>66348.50000</td>\n",
       "      <td>7.890741</td>\n",
       "    </tr>\n",
       "    <tr>\n",
       "      <th>25%</th>\n",
       "      <td>69047.400000</td>\n",
       "      <td>69203.200000</td>\n",
       "      <td>68716.400000</td>\n",
       "      <td>69047.40000</td>\n",
       "      <td>36.596690</td>\n",
       "    </tr>\n",
       "    <tr>\n",
       "      <th>50%</th>\n",
       "      <td>69518.200000</td>\n",
       "      <td>69800.000000</td>\n",
       "      <td>69331.900000</td>\n",
       "      <td>69529.60000</td>\n",
       "      <td>71.832649</td>\n",
       "    </tr>\n",
       "    <tr>\n",
       "      <th>75%</th>\n",
       "      <td>70653.400000</td>\n",
       "      <td>70889.000000</td>\n",
       "      <td>70500.000000</td>\n",
       "      <td>70660.10000</td>\n",
       "      <td>144.080559</td>\n",
       "    </tr>\n",
       "    <tr>\n",
       "      <th>max</th>\n",
       "      <td>72351.300000</td>\n",
       "      <td>72731.500000</td>\n",
       "      <td>72203.000000</td>\n",
       "      <td>72351.20000</td>\n",
       "      <td>904.308328</td>\n",
       "    </tr>\n",
       "  </tbody>\n",
       "</table>\n",
       "</div>"
      ],
      "text/plain": [
       "          OpenPrice     HighPrice      LowPrice   ClosePrice      Volume\n",
       "count    165.000000    165.000000    165.000000    165.00000  165.000000\n",
       "mean   69759.777576  69977.047879  69509.913939  69751.99697  120.033260\n",
       "std     1195.961502   1209.119905   1223.958970   1213.25696  139.974170\n",
       "min    67584.400000  67770.100000  65118.000000  66348.50000    7.890741\n",
       "25%    69047.400000  69203.200000  68716.400000  69047.40000   36.596690\n",
       "50%    69518.200000  69800.000000  69331.900000  69529.60000   71.832649\n",
       "75%    70653.400000  70889.000000  70500.000000  70660.10000  144.080559\n",
       "max    72351.300000  72731.500000  72203.000000  72351.20000  904.308328"
      ]
     },
     "execution_count": 34,
     "metadata": {},
     "output_type": "execute_result"
    }
   ],
   "source": [
    "btc.describe()"
   ]
  },
  {
   "cell_type": "code",
   "execution_count": 35,
   "metadata": {},
   "outputs": [
    {
     "data": {
      "text/html": [
       "<div>\n",
       "<style scoped>\n",
       "    .dataframe tbody tr th:only-of-type {\n",
       "        vertical-align: middle;\n",
       "    }\n",
       "\n",
       "    .dataframe tbody tr th {\n",
       "        vertical-align: top;\n",
       "    }\n",
       "\n",
       "    .dataframe thead th {\n",
       "        text-align: right;\n",
       "    }\n",
       "</style>\n",
       "<table border=\"1\" class=\"dataframe\">\n",
       "  <thead>\n",
       "    <tr style=\"text-align: right;\">\n",
       "      <th></th>\n",
       "      <th>OpenPrice</th>\n",
       "      <th>HighPrice</th>\n",
       "      <th>LowPrice</th>\n",
       "      <th>ClosePrice</th>\n",
       "      <th>Volume</th>\n",
       "    </tr>\n",
       "    <tr>\n",
       "      <th>CloseTime</th>\n",
       "      <th></th>\n",
       "      <th></th>\n",
       "      <th></th>\n",
       "      <th></th>\n",
       "      <th></th>\n",
       "    </tr>\n",
       "  </thead>\n",
       "  <tbody>\n",
       "    <tr>\n",
       "      <th>2024-04-05 22:00:00</th>\n",
       "      <td>67584.4</td>\n",
       "      <td>67851.7</td>\n",
       "      <td>67584.4</td>\n",
       "      <td>67636.8</td>\n",
       "      <td>33.725261</td>\n",
       "    </tr>\n",
       "    <tr>\n",
       "      <th>2024-04-05 23:00:00</th>\n",
       "      <td>67661.0</td>\n",
       "      <td>67971.0</td>\n",
       "      <td>67660.9</td>\n",
       "      <td>67856.5</td>\n",
       "      <td>18.431039</td>\n",
       "    </tr>\n",
       "    <tr>\n",
       "      <th>2024-04-06 00:00:00</th>\n",
       "      <td>67856.5</td>\n",
       "      <td>68043.0</td>\n",
       "      <td>67738.6</td>\n",
       "      <td>67955.6</td>\n",
       "      <td>32.119727</td>\n",
       "    </tr>\n",
       "    <tr>\n",
       "      <th>2024-04-06 01:00:00</th>\n",
       "      <td>67955.6</td>\n",
       "      <td>67999.1</td>\n",
       "      <td>67700.0</td>\n",
       "      <td>67745.0</td>\n",
       "      <td>36.478014</td>\n",
       "    </tr>\n",
       "    <tr>\n",
       "      <th>2024-04-06 02:00:00</th>\n",
       "      <td>67745.0</td>\n",
       "      <td>67815.0</td>\n",
       "      <td>67513.7</td>\n",
       "      <td>67626.8</td>\n",
       "      <td>12.624727</td>\n",
       "    </tr>\n",
       "  </tbody>\n",
       "</table>\n",
       "</div>"
      ],
      "text/plain": [
       "                     OpenPrice  HighPrice  LowPrice  ClosePrice     Volume\n",
       "CloseTime                                                                 \n",
       "2024-04-05 22:00:00    67584.4    67851.7   67584.4     67636.8  33.725261\n",
       "2024-04-05 23:00:00    67661.0    67971.0   67660.9     67856.5  18.431039\n",
       "2024-04-06 00:00:00    67856.5    68043.0   67738.6     67955.6  32.119727\n",
       "2024-04-06 01:00:00    67955.6    67999.1   67700.0     67745.0  36.478014\n",
       "2024-04-06 02:00:00    67745.0    67815.0   67513.7     67626.8  12.624727"
      ]
     },
     "execution_count": 35,
     "metadata": {},
     "output_type": "execute_result"
    }
   ],
   "source": [
    "btc.head()"
   ]
  },
  {
   "cell_type": "code",
   "execution_count": 36,
   "metadata": {},
   "outputs": [
    {
     "data": {
      "text/plain": [
       "<Axes: xlabel='CloseTime', ylabel='Price'>"
      ]
     },
     "execution_count": 36,
     "metadata": {},
     "output_type": "execute_result"
    },
    {
     "data": {
      "image/png": "[encoded data removed]",
      "text/plain": [
       "<Figure size 1500x700 with 1 Axes>"
      ]
     },
     "metadata": {},
     "output_type": "display_data"
    }
   ],
   "source": [
    "btc['ClosePrice'].plot(figsize=(15,7),ylabel='Price')"
   ]
  },
  {
   "cell_type": "code",
   "execution_count": 37,
   "metadata": {},
   "outputs": [
    {
     "data": {
      "text/html": [
       "<div>\n",
       "<style scoped>\n",
       "    .dataframe tbody tr th:only-of-type {\n",
       "        vertical-align: middle;\n",
       "    }\n",
       "\n",
       "    .dataframe tbody tr th {\n",
       "        vertical-align: top;\n",
       "    }\n",
       "\n",
       "    .dataframe thead th {\n",
       "        text-align: right;\n",
       "    }\n",
       "</style>\n",
       "<table border=\"1\" class=\"dataframe\">\n",
       "  <thead>\n",
       "    <tr style=\"text-align: right;\">\n",
       "      <th></th>\n",
       "      <th>OpenPrice</th>\n",
       "      <th>HighPrice</th>\n",
       "      <th>LowPrice</th>\n",
       "      <th>ClosePrice</th>\n",
       "      <th>Volume</th>\n",
       "    </tr>\n",
       "    <tr>\n",
       "      <th>CloseTime</th>\n",
       "      <th></th>\n",
       "      <th></th>\n",
       "      <th></th>\n",
       "      <th></th>\n",
       "      <th></th>\n",
       "    </tr>\n",
       "  </thead>\n",
       "  <tbody>\n",
       "    <tr>\n",
       "      <th>2024-04-05 22:00:00</th>\n",
       "      <td>3322.70</td>\n",
       "      <td>3328.03</td>\n",
       "      <td>3312.93</td>\n",
       "      <td>3315.84</td>\n",
       "      <td>156.525967</td>\n",
       "    </tr>\n",
       "    <tr>\n",
       "      <th>2024-04-05 23:00:00</th>\n",
       "      <td>3315.84</td>\n",
       "      <td>3327.57</td>\n",
       "      <td>3315.64</td>\n",
       "      <td>3320.55</td>\n",
       "      <td>110.876968</td>\n",
       "    </tr>\n",
       "    <tr>\n",
       "      <th>2024-04-06 00:00:00</th>\n",
       "      <td>3320.55</td>\n",
       "      <td>3339.88</td>\n",
       "      <td>3312.88</td>\n",
       "      <td>3326.11</td>\n",
       "      <td>1033.375770</td>\n",
       "    </tr>\n",
       "    <tr>\n",
       "      <th>2024-04-06 01:00:00</th>\n",
       "      <td>3326.73</td>\n",
       "      <td>3332.20</td>\n",
       "      <td>3315.75</td>\n",
       "      <td>3319.70</td>\n",
       "      <td>123.316967</td>\n",
       "    </tr>\n",
       "    <tr>\n",
       "      <th>2024-04-06 02:00:00</th>\n",
       "      <td>3319.96</td>\n",
       "      <td>3327.60</td>\n",
       "      <td>3310.00</td>\n",
       "      <td>3324.52</td>\n",
       "      <td>80.147708</td>\n",
       "    </tr>\n",
       "  </tbody>\n",
       "</table>\n",
       "</div>"
      ],
      "text/plain": [
       "                     OpenPrice  HighPrice  LowPrice  ClosePrice       Volume\n",
       "CloseTime                                                                   \n",
       "2024-04-05 22:00:00    3322.70    3328.03   3312.93     3315.84   156.525967\n",
       "2024-04-05 23:00:00    3315.84    3327.57   3315.64     3320.55   110.876968\n",
       "2024-04-06 00:00:00    3320.55    3339.88   3312.88     3326.11  1033.375770\n",
       "2024-04-06 01:00:00    3326.73    3332.20   3315.75     3319.70   123.316967\n",
       "2024-04-06 02:00:00    3319.96    3327.60   3310.00     3324.52    80.147708"
      ]
     },
     "execution_count": 37,
     "metadata": {},
     "output_type": "execute_result"
    }
   ],
   "source": [
    "eth.head()"
   ]
  },
  {
   "cell_type": "markdown",
   "metadata": {},
   "source": [
    "### Bonus: Dynamic plots with Bokeh\n",
    "Bokeh is a plotting library that generates interactive plots, that can be manipualted right within your browser."
   ]
  },
  {
   "cell_type": "code",
   "execution_count": 38,
   "metadata": {},
   "outputs": [],
   "source": [
    "from bokeh.plotting import figure, output_file, show\n",
    "from bokeh.io import output_notebook"
   ]
  },
  {
   "cell_type": "code",
   "execution_count": 39,
   "metadata": {},
   "outputs": [
    {
     "data": {
      "text/html": [
       "    <style>\n",
       "        .bk-notebook-logo {\n",
       "            display: block;\n",
       "            width: 20px;\n",
       "            height: 20px;\n",
       "            background-image: url(data:image/png;base64,iVBORw0KGgoAAAANSUhEUgAAABQAAAAUCAYAAACNiR0NAAAABHNCSVQICAgIfAhkiAAAAAlwSFlzAAALEgAACxIB0t1+/AAAABx0RVh0U29mdHdhcmUAQWRvYmUgRmlyZXdvcmtzIENTNui8sowAAAOkSURBVDiNjZRtaJVlGMd/1/08zzln5zjP1LWcU9N0NkN8m2CYjpgQYQXqSs0I84OLIC0hkEKoPtiH3gmKoiJDU7QpLgoLjLIQCpEsNJ1vqUOdO7ppbuec5+V+rj4ctwzd8IIbbi6u+8f1539dt3A78eXC7QizUF7gyV1fD1Yqg4JWz84yffhm0qkFqBogB9rM8tZdtwVsPUhWhGcFJngGeWrPzHm5oaMmkfEg1usvLFyc8jLRqDOMru7AyC8saQr7GG7f5fvDeH7Ej8CM66nIF+8yngt6HWaKh7k49Soy9nXurCi1o3qUbS3zWfrYeQDTB/Qj6kX6Ybhw4B+bOYoLKCC9H3Nu/leUTZ1JdRWkkn2ldcCamzrcf47KKXdAJllSlxAOkRgyHsGC/zRday5Qld9DyoM4/q/rUoy/CXh3jzOu3bHUVZeU+DEn8FInkPBFlu3+nW3Nw0mk6vCDiWg8CeJaxEwuHS3+z5RgY+YBR6V1Z1nxSOfoaPa4LASWxxdNp+VWTk7+4vzaou8v8PN+xo+KY2xsw6une2frhw05CTYOmQvsEhjhWjn0bmXPjpE1+kplmmkP3suftwTubK9Vq22qKmrBhpY4jvd5afdRA3wGjFAgcnTK2s4hY0/GPNIb0nErGMCRxWOOX64Z8RAC4oCXdklmEvcL8o0BfkNK4lUg9HTl+oPlQxdNo3Mg4Nv175e/1LDGzZen30MEjRUtmXSfiTVu1kK8W4txyV6BMKlbgk3lMwYCiusNy9fVfvvwMxv8Ynl6vxoByANLTWplvuj/nF9m2+PDtt1eiHPBr1oIfhCChQMBw6Aw0UulqTKZdfVvfG7VcfIqLG9bcldL/+pdWTLxLUy8Qq38heUIjh4XlzZxzQm19lLFlr8vdQ97rjZVOLf8nclzckbcD4wxXMidpX30sFd37Fv/GtwwhzhxGVAprjbg0gCAEeIgwCZyTV2Z1REEW8O4py0wsjeloKoMr6iCY6dP92H6Vw/oTyICIthibxjm/DfN9lVz8IqtqKYLUXfoKVMVQVVJOElGjrnnUt9T9wbgp8AyYKaGlqingHZU/uG2NTZSVqwHQTWkx9hxjkpWDaCg6Ckj5qebgBVbT3V3NNXMSiWSDdGV3hrtzla7J+duwPOToIg42ChPQOQjspnSlp1V+Gjdged7+8UN5CRAV7a5EdFNwCjEaBR27b3W890TE7g24NAP/mMDXRWrGoFPQI9ls/MWO2dWFAar/xcOIImbbpA3zgAAAABJRU5ErkJggg==);\n",
       "        }\n",
       "    </style>\n",
       "    <div>\n",
       "        <a href=\"https://bokeh.org\" target=\"_blank\" class=\"bk-notebook-logo\"></a>\n",
       "        <span id=\"a3960ead-8f20-4eb4-9597-ff46db021e13\">Loading BokehJS ...</span>\n",
       "    </div>\n"
      ]
     },
     "metadata": {},
     "output_type": "display_data"
    },
    {
     "data": {
      "application/javascript": "'use strict';\n(function(root) {\n  function now() {\n    return new Date();\n  }\n\n  const force = true;\n\n  if (typeof root._bokeh_onload_callbacks === \"undefined\" || force === true) {\n    root._bokeh_onload_callbacks = [];\n    root._bokeh_is_loading = undefined;\n  }\n\nconst JS_MIME_TYPE = 'application/javascript';\n  const HTML_MIME_TYPE = 'text/html';\n  const EXEC_MIME_TYPE = 'application/vnd.bokehjs_exec.v0+json';\n  const CLASS_NAME = 'output_bokeh rendered_html';\n\n  /**\n   * Render data to the DOM node\n   */\n  function render(props, node) {\n    const script = document.createElement(\"script\");\n    node.appendChild(script);\n  }\n\n  /**\n   * Handle when an output is cleared or removed\n   */\n  function handleClearOutput(event, handle) {\n    function drop(id) {\n      const view = Bokeh.index.get_by_id(id)\n      if (view != null) {\n        view.model.document.clear()\n        Bokeh.index.delete(view)\n      }\n    }\n\n    const cell = handle.cell;\n\n    const id = cell.output_area._bokeh_element_id;\n    const server_id = cell.output_area._bokeh_server_id;\n\n    // Clean up Bokeh references\n    if (id != null) {\n      drop(id)\n    }\n\n    if (server_id !== undefined) {\n      // Clean up Bokeh references\n      const cmd_clean = \"from bokeh.io.state import curstate; print(curstate().uuid_to_server['\" + server_id + \"'].get_sessions()[0].document.roots[0]._id)\";\n      cell.notebook.kernel.execute(cmd_clean, {\n        iopub: {\n          output: function(msg) {\n            const id = msg.content.text.trim()\n            drop(id)\n          }\n        }\n      });\n      // Destroy server and session\n      const cmd_destroy = \"import bokeh.io.notebook as ion; ion.destroy_server('\" + server_id + \"')\";\n      cell.notebook.kernel.execute(cmd_destroy);\n    }\n  }\n\n  /**\n   * Handle when a new output is added\n   */\n  function handleAddOutput(event, handle) {\n    const output_area = handle.output_area;\n    const output = handle.output;\n\n    // limit handleAddOutput to display_data with EXEC_MIME_TYPE content only\n    if ((output.output_type != \"display_data\") || (!Object.prototype.hasOwnProperty.call(output.data, EXEC_MIME_TYPE))) {\n      return\n    }\n\n    const toinsert = output_area.element.find(\".\" + CLASS_NAME.split(' ')[0]);\n\n    if (output.metadata[EXEC_MIME_TYPE][\"id\"] !== undefined) {\n      toinsert[toinsert.length - 1].firstChild.textContent = output.data[JS_MIME_TYPE];\n      // store reference to embed id on output_area\n      output_area._bokeh_element_id = output.metadata[EXEC_MIME_TYPE][\"id\"];\n    }\n    if (output.metadata[EXEC_MIME_TYPE][\"server_id\"] !== undefined) {\n      const bk_div = document.createElement(\"div\");\n      bk_div.innerHTML = output.data[HTML_MIME_TYPE];\n      const script_attrs = bk_div.children[0].attributes;\n      for (let i = 0; i < script_attrs.length; i++) {\n        toinsert[toinsert.length - 1].firstChild.setAttribute(script_attrs[i].name, script_attrs[i].value);\n        toinsert[toinsert.length - 1].firstChild.textContent = bk_div.children[0].textContent\n      }\n      // store reference to server id on output_area\n      output_area._bokeh_server_id = output.metadata[EXEC_MIME_TYPE][\"server_id\"];\n    }\n  }\n\n  function register_renderer(events, OutputArea) {\n\n    function append_mime(data, metadata, element) {\n      // create a DOM node to render to\n      const toinsert = this.create_output_subarea(\n        metadata,\n        CLASS_NAME,\n        EXEC_MIME_TYPE\n      );\n      this.keyboard_manager.register_events(toinsert);\n      // Render to node\n      const props = {data: data, metadata: metadata[EXEC_MIME_TYPE]};\n      render(props, toinsert[toinsert.length - 1]);\n      element.append(toinsert);\n      return toinsert\n    }\n\n    /* Handle when an output is cleared or removed */\n    events.on('clear_output.CodeCell', handleClearOutput);\n    events.on('delete.Cell', handleClearOutput);\n\n    /* Handle when a new output is added */\n    events.on('output_added.OutputArea', handleAddOutput);\n\n    /**\n     * Register the mime type and append_mime function with output_area\n     */\n    OutputArea.prototype.register_mime_type(EXEC_MIME_TYPE, append_mime, {\n      /* Is output safe? */\n      safe: true,\n      /* Index of renderer in `output_area.display_order` */\n      index: 0\n    });\n  }\n\n  // register the mime type if in Jupyter Notebook environment and previously unregistered\n  if (root.Jupyter !== undefined) {\n    const events = require('base/js/events');\n    const OutputArea = require('notebook/js/outputarea').OutputArea;\n\n    if (OutputArea.prototype.mime_types().indexOf(EXEC_MIME_TYPE) == -1) {\n      register_renderer(events, OutputArea);\n    }\n  }\n  if (typeof (root._bokeh_timeout) === \"undefined\" || force === true) {\n    root._bokeh_timeout = Date.now() + 5000;\n    root._bokeh_failed_load = false;\n  }\n\n  const NB_LOAD_WARNING = {'data': {'text/html':\n     \"<div style='background-color: #fdd'>\\n\"+\n     \"<p>\\n\"+\n     \"BokehJS does not appear to have successfully loaded. If loading BokehJS from CDN, this \\n\"+\n     \"may be due to a slow or bad network connection. Possible fixes:\\n\"+\n     \"</p>\\n\"+\n     \"<ul>\\n\"+\n     \"<li>re-rerun `output_notebook()` to attempt to load from CDN again, or</li>\\n\"+\n     \"<li>use INLINE resources instead, as so:</li>\\n\"+\n     \"</ul>\\n\"+\n     \"<code>\\n\"+\n     \"from bokeh.resources import INLINE\\n\"+\n     \"output_notebook(resources=INLINE)\\n\"+\n     \"</code>\\n\"+\n     \"</div>\"}};\n\n  function display_loaded(error = null) {\n    const el = document.getElementById(\"a3960ead-8f20-4eb4-9597-ff46db021e13\");\n    if (el != null) {\n      const html = (() => {\n        if (typeof root.Bokeh === \"undefined\") {\n          if (error == null) {\n            return \"BokehJS is loading ...\";\n          } else {\n            return \"BokehJS failed to load.\";\n          }\n        } else {\n          const prefix = `BokehJS ${root.Bokeh.version}`;\n          if (error == null) {\n            return `${prefix} successfully loaded.`;\n          } else {\n            return `${prefix} <b>encountered errors</b> while loading and may not function as expected.`;\n          }\n        }\n      })();\n      el.innerHTML = html;\n\n      if (error != null) {\n        const wrapper = document.createElement(\"div\");\n        wrapper.style.overflow = \"auto\";\n        wrapper.style.height = \"5em\";\n        wrapper.style.resize = \"vertical\";\n        const content = document.createElement(\"div\");\n        content.style.fontFamily = \"monospace\";\n        content.style.whiteSpace = \"pre-wrap\";\n        content.style.backgroundColor = \"rgb(255, 221, 221)\";\n        content.textContent = error.stack ?? error.toString();\n        wrapper.append(content);\n        el.append(wrapper);\n      }\n    } else if (Date.now() < root._bokeh_timeout) {\n      setTimeout(() => display_loaded(error), 100);\n    }\n  }\n\n  function run_callbacks() {\n    try {\n      root._bokeh_onload_callbacks.forEach(function(callback) {\n        if (callback != null)\n          callback();\n      });\n    } finally {\n      delete root._bokeh_onload_callbacks\n    }\n    console.debug(\"Bokeh: all callbacks have finished\");\n  }\n\n  function load_libs(css_urls, js_urls, callback) {\n    if (css_urls == null) css_urls = [];\n    if (js_urls == null) js_urls = [];\n\n    root._bokeh_onload_callbacks.push(callback);\n    if (root._bokeh_is_loading > 0) {\n      console.debug(\"Bokeh: BokehJS is being loaded, scheduling callback at\", now());\n      return null;\n    }\n    if (js_urls == null || js_urls.length === 0) {\n      run_callbacks();\n      return null;\n    }\n    console.debug(\"Bokeh: BokehJS not loaded, scheduling load and callback at\", now());\n    root._bokeh_is_loading = css_urls.length + js_urls.length;\n\n    function on_load() {\n      root._bokeh_is_loading--;\n      if (root._bokeh_is_loading === 0) {\n        console.debug(\"Bokeh: all BokehJS libraries/stylesheets loaded\");\n        run_callbacks()\n      }\n    }\n\n    function on_error(url) {\n      console.error(\"failed to load \" + url);\n    }\n\n    for (let i = 0; i < css_urls.length; i++) {\n      const url = css_urls[i];\n      const element = document.createElement(\"link\");\n      element.onload = on_load;\n      element.onerror = on_error.bind(null, url);\n      element.rel = \"stylesheet\";\n      element.type = \"text/css\";\n      element.href = url;\n      console.debug(\"Bokeh: injecting link tag for BokehJS stylesheet: \", url);\n      document.body.appendChild(element);\n    }\n\n    for (let i = 0; i < js_urls.length; i++) {\n      const url = js_urls[i];\n      const element = document.createElement('script');\n      element.onload = on_load;\n      element.onerror = on_error.bind(null, url);\n      element.async = false;\n      element.src = url;\n      console.debug(\"Bokeh: injecting script tag for BokehJS library: \", url);\n      document.head.appendChild(element);\n    }\n  };\n\n  function inject_raw_css(css) {\n    const element = document.createElement(\"style\");\n    element.appendChild(document.createTextNode(css));\n    document.body.appendChild(element);\n  }\n\n  const js_urls = [\"https://cdn.bokeh.org/bokeh/release/bokeh-3.4.1.min.js\", \"https://cdn.bokeh.org/bokeh/release/bokeh-gl-3.4.1.min.js\", \"https://cdn.bokeh.org/bokeh/release/bokeh-widgets-3.4.1.min.js\", \"https://cdn.bokeh.org/bokeh/release/bokeh-tables-3.4.1.min.js\", \"https://cdn.bokeh.org/bokeh/release/bokeh-mathjax-3.4.1.min.js\"];\n  const css_urls = [];\n\n  const inline_js = [    function(Bokeh) {\n      Bokeh.set_log_level(\"info\");\n    },\nfunction(Bokeh) {\n    }\n  ];\n\n  function run_inline_js() {\n    if (root.Bokeh !== undefined || force === true) {\n      try {\n            for (let i = 0; i < inline_js.length; i++) {\n      inline_js[i].call(root, root.Bokeh);\n    }\n\n      } catch (error) {display_loaded(error);throw error;\n      }if (force === true) {\n        display_loaded();\n      }} else if (Date.now() < root._bokeh_timeout) {\n      setTimeout(run_inline_js, 100);\n    } else if (!root._bokeh_failed_load) {\n      console.log(\"Bokeh: BokehJS failed to load within specified timeout.\");\n      root._bokeh_failed_load = true;\n    } else if (force !== true) {\n      const cell = $(document.getElementById(\"a3960ead-8f20-4eb4-9597-ff46db021e13\")).parents('.cell').data().cell;\n      cell.output_area.append_execute_result(NB_LOAD_WARNING)\n    }\n  }\n\n  if (root._bokeh_is_loading === 0) {\n    console.debug(\"Bokeh: BokehJS loaded, going straight to plotting\");\n    run_inline_js();\n  } else {\n    load_libs(css_urls, js_urls, function() {\n      console.debug(\"Bokeh: BokehJS plotting callback run at\", now());\n      run_inline_js();\n    });\n  }\n}(window));",
      "application/vnd.bokehjs_load.v0+json": ""
     },
     "metadata": {},
     "output_type": "display_data"
    }
   ],
   "source": [
    "output_notebook()"
   ]
  },
  {
   "cell_type": "code",
   "execution_count": 44,
   "metadata": {},
   "outputs": [
    {
     "data": {
      "text/html": [
       "\n",
       "  <div id=\"dd7c0c51-eb66-4929-9f87-73d3a3a9e724\" data-root-id=\"p1411\" style=\"display: contents;\"></div>\n"
      ]
     },
     "metadata": {},
     "output_type": "display_data"
    },
    {
     "data": {
      "application/javascript": "(function(root) {\n  function embed_document(root) {\n  const docs_json = {\"29508acb-69cf-457a-aa9a-dc56552a9f27\":{\"version\":\"3.4.1\",\"title\":\"Bokeh Application\",\"roots\":[{\"type\":\"object\",\"name\":\"Figure\",\"id\":\"p1411\",\"attributes\":{\"width\":800,\"x_range\":{\"type\":\"object\",\"name\":\"DataRange1d\",\"id\":\"p1412\"},\"y_range\":{\"type\":\"object\",\"name\":\"DataRange1d\",\"id\":\"p1413\"},\"x_scale\":{\"type\":\"object\",\"name\":\"LinearScale\",\"id\":\"p1421\"},\"y_scale\":{\"type\":\"object\",\"name\":\"LinearScale\",\"id\":\"p1422\"},\"title\":{\"type\":\"object\",\"name\":\"Title\",\"id\":\"p1414\",\"attributes\":{\"text\":\"Crypto Prices\"}},\"renderers\":[{\"type\":\"object\",\"name\":\"GlyphRenderer\",\"id\":\"p1462\",\"attributes\":{\"data_source\":{\"type\":\"object\",\"name\":\"ColumnDataSource\",\"id\":\"p1456\",\"attributes\":{\"selected\":{\"type\":\"object\",\"name\":\"Selection\",\"id\":\"p1457\",\"attributes\":{\"indices\":[],\"line_indices\":[]}},\"selection_policy\":{\"type\":\"object\",\"name\":\"UnionRenderers\",\"id\":\"p1458\"},\"data\":{\"type\":\"map\",\"entries\":[[\"x\",{\"type\":\"ndarray\",\"array\":{\"type\":\"bytes\",\"data\":\"AABwaQTreEIAAFjYB+t4QgAAQEcL63hCAAAotg7reEIAABAlEut4QgAA+JMV63hCAADgAhnreEIAAMhxHOt4QgAAsOAf63hCAACYTyPreEIAAIC+Jut4QgAAaC0q63hCAABQnC3reEIAADgLMet4QgAAIHo063hCAAAI6TfreEIAAPBXO+t4QgAA2MY+63hCAADANULreEIAAKikRet4QgAAkBNJ63hCAAB4gkzreEIAAGDxT+t4QgAASGBT63hCAAAwz1breEIAABg+Wut4QgAAAK1d63hCAADoG2HreEIAANCKZOt4QgAAuPln63hCAACgaGvreEIAAIjXbut4QgAAcEZy63hCAABYtXXreEIAAEAkeet4QgAAKJN863hCAAAQAoDreEIAAPhwg+t4QgAA4N+G63hCAADITorreEIAALC9jet4QgAAmCyR63hCAACAm5TreEIAAGgKmOt4QgAAUHmb63hCAAA46J7reEIAACBXout4QgAACMal63hCAADwNKnreEIAANijrOt4QgAAwBKw63hCAACogbPreEIAAJDwtut4QgAAeF+663hCAABgzr3reEIAAEg9wet4QgAAMKzE63hCAAAYG8jreEIAAACKy+t4QgAA6PjO63hCAADQZ9LreEIAALjW1et4QgAAoEXZ63hCAACItNzreEIAAHAj4Ot4QgAAWJLj63hCAABAAefreEIAAChw6ut4QgAAEN/t63hCAAD4TfHreEIAAOC89Ot4QgAAyCv463hCAACwmvvreEIAAJgJ/+t4QgAAgHgC7HhCAABo5wXseEIAAFBWCex4QgAAOMUM7HhCAAAgNBDseEIAAAijE+x4QgAA8BEX7HhCAADYgBrseEIAAMDvHex4QgAAqF4h7HhCAACQzSTseEIAAHg8KOx4QgAAYKsr7HhCAABIGi/seEIAADCJMux4QgAAGPg17HhCAAAAZznseEIAAOjVPOx4QgAA0ERA7HhCAAC4s0PseEIAAKAiR+x4QgAAiJFK7HhCAABwAE7seEIAAFhvUex4QgAAQN5U7HhCAAAoTVjseEIAABC8W+x4QgAA+Cpf7HhCAADgmWLseEIAAMgIZux4QgAAsHdp7HhCAACY5mzseEIAAIBVcOx4QgAAaMRz7HhCAABQM3fseEIAADiieux4QgAAIBF+7HhCAAAIgIHseEIAAPDuhOx4QgAA2F2I7HhCAADAzIvseEIAAKg7j+x4QgAAkKqS7HhCAAB4GZbseEIAAGCImex4QgAASPec7HhCAAAwZqDseEIAABjVo+x4QgAAAESn7HhCAADosqrseEIAANAhrux4QgAAuJCx7HhCAACg/7TseEIAAIhuuOx4QgAAcN277HhCAABYTL/seEIAAEC7wux4QgAAKCrG7HhCAAAQmcnseEIAAPgHzex4QgAA4HbQ7HhCAADI5dPseEIAALBU1+x4QgAAmMPa7HhCAACAMt7seEIAAGih4ex4QgAAUBDl7HhCAAA4f+jseEIAACDu6+x4QgAACF3v7HhCAADwy/LseEIAANg69ux4QgAAwKn57HhCAACoGP3seEIAAJCHAO14QgAAePYD7XhCAABgZQfteEIAAEjUCu14QgAAMEMO7XhCAAAYshHteEIAAAAhFe14QgAA6I8Y7XhCAADQ/hvteEIAALhtH+14QgAAoNwi7XhCAACISybteEIAAHC6Ke14QgAAWCkt7XhCAABAmDDteEIAACgHNO14QgAAEHY37XhC\"},\"shape\":[165],\"dtype\":\"float64\",\"order\":\"little\"}],[\"y\",{\"type\":\"ndarray\",\"array\":{\"type\":\"bytes\",\"data\":\"zczMzEyD8EAAAAAACJHwQJqZmZk5l/BAAAAAABCK8EDNzMzMrILwQJqZmZkhkPBAZmZmZiaM8ECamZmZiZ3wQAAAAAAAofBAAAAAADCe8EDNzMzMbJ7wQAAAAAAwj/BAzczMzJSS8EAzMzMzM4jwQJqZmZmhi/BAAAAAACCI8EAAAAAAQJrwQGZmZmYeovBAAAAAAOik8ECamZmZya7wQM3MzMy0rvBAzczMzBSs8EAAAAAAILbwQM3MzMx8r/BAAAAAAADc8ECamZmZydLwQGZmZmZ+2vBAzczMzHT88EAAAAAAsO3wQDMzMzOj8/BAmpmZmWHu8ECamZmZYfDwQM3MzMxE6fBAzczMzNzv8ECamZmZmfnwQAAAAAAw6/BAZmZmZvbu8EAAAAAAkPDwQDMzMzOD8fBAAAAAAMDw8EAAAAAAQP3wQM3MzMw0/PBAzczMzFQb8UBmZmZm5gvxQGZmZmau8vBAzczMzNzd8EAzMzMzS+3wQGZmZmZ22/BAmpmZmUHm8ECamZmZofDwQJqZmZn56vBAMzMzM5vy8EAAAAAAyOXwQAAAAACg9PBAZmZmZuby8ECamZmZGQbxQM3MzMwEC/FAZmZmZhZE8UCamZmZkZLxQAAAAAAwn/FAAAAAAMCm8UAzMzMz86nxQAAAAAAAnvFAZmZmZl6Q8UCamZmZQYHxQJqZmZlZhPFAAAAAAECG8UCamZmZUYLxQM3MzMx8kfFAZmZmZj5/8UBmZmZmLoHxQJqZmZlhgvFAZmZmZr6N8UAAAAAAIH7xQAAAAAC4cfFAZmZmZuZm8UCamZmZwXTxQAAAAAAIaPFAZmZmZhZi8UAzMzMz21jxQGZmZmZeSPFAZmZmZn4x8UDNzMzM7DfxQDMzMzP7MPFAzczMzKQ78UBmZmZm1kjxQJqZmZkZRfFAZmZmZr4V8UBmZmZmZurwQAAAAAAY5/BAmpmZmQG/8EAzMzMzk8vwQM3MzMzU0PBAmpmZmSHZ8EAAAAAAwNzwQM3MzMwE5fBAzczMzMTs8EBmZmZmfuLwQAAAAAAg3fBAMzMzM2Pj8EBmZmZmfsfwQJqZmZmR4fBAmpmZmXHg8EBmZmZmNunwQGZmZmaO8PBAmpmZmUHs8EAzMzMze9nwQJqZmZnx3vBAzczMzGzV8ECamZmZadrwQAAAAADIl/BAZmZmZkao8EAAAAAAwMXwQGZmZmYGxfBAZmZmZsb58EDNzMzMLO3wQJqZmZk56vBAAAAAAOgX8UAAAAAAyArxQAAAAACQFfFAmpmZmRk38UAzMzMzQz3xQGZmZmZWOPFAmpmZmQE68UDNzMzMbFXxQM3MzMwkTPFAZmZmZn488UAAAAAAyD3xQJqZmZlhQ/FAMzMzM2tI8UAAAAAAIFfxQJqZmZnpQPFAAAAAABAx8UCamZmZARfxQM3MzMyET/FAAAAAADAs8UBmZmZmPv/wQGZmZmY+F/FAmpmZmREY8UBmZmZmriPxQGZmZmZWHfFAzczMzDw18UCamZmZGTbxQAAAAAAIH/FAMzMzM/Mj8UBmZmZm5hnxQM3MzMzcKfFAAAAAAMAq8UCamZmZQUDxQM3MzMzMVPFAmpmZmSFd8UAzMzMzs1PxQGZmZmb2TfFAmpmZmalG8UAAAAAASEjxQAAAAADYP/FAAAAAAHBI8UAAAAAAQE/xQM3MzMykNvFAZmZmZs4P8UAAAAAAoOXwQAAAAADA7fBAMzMzM9vO8EBmZmZmdp/wQAAAAADIMvBA\"},\"shape\":[165],\"dtype\":\"float64\",\"order\":\"little\"}]]}}},\"view\":{\"type\":\"object\",\"name\":\"CDSView\",\"id\":\"p1463\",\"attributes\":{\"filter\":{\"type\":\"object\",\"name\":\"AllIndices\",\"id\":\"p1464\"}}},\"glyph\":{\"type\":\"object\",\"name\":\"Line\",\"id\":\"p1459\",\"attributes\":{\"x\":{\"type\":\"field\",\"field\":\"x\"},\"y\":{\"type\":\"field\",\"field\":\"y\"},\"line_color\":\"#f2a900\"}},\"nonselection_glyph\":{\"type\":\"object\",\"name\":\"Line\",\"id\":\"p1460\",\"attributes\":{\"x\":{\"type\":\"field\",\"field\":\"x\"},\"y\":{\"type\":\"field\",\"field\":\"y\"},\"line_color\":\"#f2a900\",\"line_alpha\":0.1}},\"muted_glyph\":{\"type\":\"object\",\"name\":\"Line\",\"id\":\"p1461\",\"attributes\":{\"x\":{\"type\":\"field\",\"field\":\"x\"},\"y\":{\"type\":\"field\",\"field\":\"y\"},\"line_color\":\"#f2a900\",\"line_alpha\":0.2}}}}],\"toolbar\":{\"type\":\"object\",\"name\":\"Toolbar\",\"id\":\"p1420\",\"attributes\":{\"tools\":[{\"type\":\"object\",\"name\":\"PanTool\",\"id\":\"p1445\"},{\"type\":\"object\",\"name\":\"WheelZoomTool\",\"id\":\"p1446\",\"attributes\":{\"renderers\":\"auto\"}},{\"type\":\"object\",\"name\":\"BoxZoomTool\",\"id\":\"p1447\",\"attributes\":{\"overlay\":{\"type\":\"object\",\"name\":\"BoxAnnotation\",\"id\":\"p1448\",\"attributes\":{\"syncable\":false,\"level\":\"overlay\",\"visible\":false,\"left\":{\"type\":\"number\",\"value\":\"nan\"},\"right\":{\"type\":\"number\",\"value\":\"nan\"},\"top\":{\"type\":\"number\",\"value\":\"nan\"},\"bottom\":{\"type\":\"number\",\"value\":\"nan\"},\"left_units\":\"canvas\",\"right_units\":\"canvas\",\"top_units\":\"canvas\",\"bottom_units\":\"canvas\",\"line_color\":\"black\",\"line_alpha\":1.0,\"line_width\":2,\"line_dash\":[4,4],\"fill_color\":\"lightgrey\",\"fill_alpha\":0.5}}}},{\"type\":\"object\",\"name\":\"SaveTool\",\"id\":\"p1453\"},{\"type\":\"object\",\"name\":\"ResetTool\",\"id\":\"p1454\"},{\"type\":\"object\",\"name\":\"HelpTool\",\"id\":\"p1455\"}]}},\"left\":[{\"type\":\"object\",\"name\":\"LinearAxis\",\"id\":\"p1440\",\"attributes\":{\"ticker\":{\"type\":\"object\",\"name\":\"BasicTicker\",\"id\":\"p1441\",\"attributes\":{\"mantissas\":[1,2,5]}},\"formatter\":{\"type\":\"object\",\"name\":\"BasicTickFormatter\",\"id\":\"p1442\"},\"axis_label\":\"Price\",\"major_label_policy\":{\"type\":\"object\",\"name\":\"AllLabels\",\"id\":\"p1443\"}}}],\"below\":[{\"type\":\"object\",\"name\":\"DatetimeAxis\",\"id\":\"p1423\",\"attributes\":{\"ticker\":{\"type\":\"object\",\"name\":\"DatetimeTicker\",\"id\":\"p1424\",\"attributes\":{\"num_minor_ticks\":5,\"tickers\":[{\"type\":\"object\",\"name\":\"AdaptiveTicker\",\"id\":\"p1425\",\"attributes\":{\"num_minor_ticks\":0,\"mantissas\":[1,2,5],\"max_interval\":500.0}},{\"type\":\"object\",\"name\":\"AdaptiveTicker\",\"id\":\"p1426\",\"attributes\":{\"num_minor_ticks\":0,\"base\":60,\"mantissas\":[1,2,5,10,15,20,30],\"min_interval\":1000.0,\"max_interval\":1800000.0}},{\"type\":\"object\",\"name\":\"AdaptiveTicker\",\"id\":\"p1427\",\"attributes\":{\"num_minor_ticks\":0,\"base\":24,\"mantissas\":[1,2,4,6,8,12],\"min_interval\":3600000.0,\"max_interval\":43200000.0}},{\"type\":\"object\",\"name\":\"DaysTicker\",\"id\":\"p1428\",\"attributes\":{\"days\":[1,2,3,4,5,6,7,8,9,10,11,12,13,14,15,16,17,18,19,20,21,22,23,24,25,26,27,28,29,30,31]}},{\"type\":\"object\",\"name\":\"DaysTicker\",\"id\":\"p1429\",\"attributes\":{\"days\":[1,4,7,10,13,16,19,22,25,28]}},{\"type\":\"object\",\"name\":\"DaysTicker\",\"id\":\"p1430\",\"attributes\":{\"days\":[1,8,15,22]}},{\"type\":\"object\",\"name\":\"DaysTicker\",\"id\":\"p1431\",\"attributes\":{\"days\":[1,15]}},{\"type\":\"object\",\"name\":\"MonthsTicker\",\"id\":\"p1432\",\"attributes\":{\"months\":[0,1,2,3,4,5,6,7,8,9,10,11]}},{\"type\":\"object\",\"name\":\"MonthsTicker\",\"id\":\"p1433\",\"attributes\":{\"months\":[0,2,4,6,8,10]}},{\"type\":\"object\",\"name\":\"MonthsTicker\",\"id\":\"p1434\",\"attributes\":{\"months\":[0,4,8]}},{\"type\":\"object\",\"name\":\"MonthsTicker\",\"id\":\"p1435\",\"attributes\":{\"months\":[0,6]}},{\"type\":\"object\",\"name\":\"YearsTicker\",\"id\":\"p1436\"}]}},\"formatter\":{\"type\":\"object\",\"name\":\"DatetimeTickFormatter\",\"id\":\"p1437\"},\"axis_label\":\"Date\",\"major_label_policy\":{\"type\":\"object\",\"name\":\"AllLabels\",\"id\":\"p1438\"}}}],\"center\":[{\"type\":\"object\",\"name\":\"Grid\",\"id\":\"p1439\",\"attributes\":{\"axis\":{\"id\":\"p1423\"},\"grid_line_alpha\":0.3}},{\"type\":\"object\",\"name\":\"Grid\",\"id\":\"p1444\",\"attributes\":{\"dimension\":1,\"axis\":{\"id\":\"p1440\"},\"grid_line_alpha\":0.3}},{\"type\":\"object\",\"name\":\"Legend\",\"id\":\"p1465\",\"attributes\":{\"location\":\"top_left\",\"items\":[{\"type\":\"object\",\"name\":\"LegendItem\",\"id\":\"p1466\",\"attributes\":{\"label\":{\"type\":\"value\",\"value\":\"Bitcoin\"},\"renderers\":[{\"id\":\"p1462\"}]}}]}}]}}]}};\n  const render_items = [{\"docid\":\"29508acb-69cf-457a-aa9a-dc56552a9f27\",\"roots\":{\"p1411\":\"dd7c0c51-eb66-4929-9f87-73d3a3a9e724\"},\"root_ids\":[\"p1411\"]}];\n  void root.Bokeh.embed.embed_items_notebook(docs_json, render_items);\n  }\n  if (root.Bokeh !== undefined) {\n    embed_document(root);\n  } else {\n    let attempts = 0;\n    const timer = setInterval(function(root) {\n      if (root.Bokeh !== undefined) {\n        clearInterval(timer);\n        embed_document(root);\n      } else {\n        attempts++;\n        if (attempts > 100) {\n          clearInterval(timer);\n          console.log(\"Bokeh: ERROR: Unable to run BokehJS code because BokehJS library is missing\");\n        }\n      }\n    }, 10, root)\n  }\n})(window);",
      "application/vnd.bokehjs_exec.v0+json": ""
     },
     "metadata": {
      "application/vnd.bokehjs_exec.v0+json": {
       "id": "p1411"
      }
     },
     "output_type": "display_data"
    }
   ],
   "source": [
    "p1 = figure(x_axis_type=\"datetime\", title=\"Crypto Prices\", width=800)\n",
    "p1.grid.grid_line_alpha=0.3\n",
    "p1.xaxis.axis_label = 'Date'\n",
    "p1.yaxis.axis_label = 'Price'\n",
    "\n",
    "p1.line(btc.index, btc['ClosePrice'], color='#f2a900', legend_label='Bitcoin')\n",
    "#p1.line(eth.index, eth['ClosePrice'], color='#A6CEE3', legend='Ether')\n",
    "\n",
    "p1.legend.location = \"top_left\"\n",
    "\n",
    "show(p1)\n",
    "\n",
    "#legend= declared and you have to use legend_label"
   ]
  },
  {
   "cell_type": "markdown",
   "metadata": {},
   "source": [
    "### Exporting to Excel\n",
    "Working with Excel and other formats is extremly simple in Jupyter Lab."
   ]
  },
  {
   "cell_type": "code",
   "execution_count": 47,
   "metadata": {},
   "outputs": [],
   "source": [
    "writer = pd.ExcelWriter('cryptos.xlsx')"
   ]
  },
  {
   "cell_type": "code",
   "execution_count": 52,
   "metadata": {},
   "outputs": [],
   "source": [
    "btc.to_excel(writer, sheet_name='Bitcoin')"
   ]
  },
  {
   "cell_type": "code",
   "execution_count": 49,
   "metadata": {},
   "outputs": [],
   "source": [
    "eth.to_excel(writer, sheet_name='Ether')"
   ]
  },
  {
   "cell_type": "code",
   "execution_count": 54,
   "metadata": {},
   "outputs": [],
   "source": [
    "writer.close()\n",
    "#Save() method declared in pandas use close"
   ]
  }
 ],
 "metadata": {
  "kernelspec": {
   "display_name": "Python 3",
   "language": "python",
   "name": "python3"
  },
  "language_info": {
   "codemirror_mode": {
    "name": "ipython",
    "version": 3
   },
   "file_extension": ".py",
   "mimetype": "text/x-python",
   "name": "python",
   "nbconvert_exporter": "python",
   "pygments_lexer": "ipython3",
   "version": "3.12.1"
  }
 },
 "nbformat": 4,
 "nbformat_minor": 2
}
